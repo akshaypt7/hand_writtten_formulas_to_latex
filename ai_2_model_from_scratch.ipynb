{
  "nbformat": 4,
  "nbformat_minor": 0,
  "metadata": {
    "colab": {
      "name": "ai_2_model_from_scratch.ipynb",
      "provenance": [],
      "collapsed_sections": [],
      "mount_file_id": "11G1LCkIWAD6z6U6Bp6CES1pU7M21qQK8",
      "authorship_tag": "ABX9TyMlnn5NWhq2WOtD9Tj6ONvr",
      "include_colab_link": true
    },
    "kernelspec": {
      "name": "python3",
      "display_name": "Python 3"
    },
    "language_info": {
      "name": "python"
    },
    "accelerator": "GPU"
  },
  "cells": [
    {
      "cell_type": "markdown",
      "metadata": {
        "id": "view-in-github",
        "colab_type": "text"
      },
      "source": [
        "<a href=\"https://colab.research.google.com/github/akshaypt7/hand_writtten_formulas_to_latex/blob/main/ai_2_model_from_scratch.ipynb\" target=\"_parent\"><img src=\"https://colab.research.google.com/assets/colab-badge.svg\" alt=\"Open In Colab\"/></a>"
      ]
    },
    {
      "cell_type": "code",
      "source": [
        "import keras\n",
        "import h5py\n",
        "import PIL.Image\n",
        "import os, shutil\n",
        "from keras.models import load_model\n",
        "from keras import layers\n",
        "from keras import models\n",
        "from keras.preprocessing.image import ImageDataGenerator\n",
        "from keras import optimizers\n",
        "from keras.preprocessing import image\n",
        "import numpy as np\n",
        "import matplotlib.pyplot as plt\n",
        "from keras.layers import LeakyReLU\n",
        "from keras.regularizers import l2\n",
        "\n",
        "from keras.layers import Conv2D, MaxPooling2D, Flatten,Dense\n",
        "from keras import Sequential\n",
        "\n",
        "from keras import layers\n",
        "from keras import models\n",
        "\n",
        "from keras import optimizers\n",
        "\n",
        "from keras.preprocessing.image import ImageDataGenerator"
      ],
      "metadata": {
        "id": "r3tboQwORVdD"
      },
      "execution_count": 1,
      "outputs": []
    },
    {
      "cell_type": "code",
      "source": [
        "from google.colab import drive\n",
        "drive.mount('/content/drive')"
      ],
      "metadata": {
        "colab": {
          "base_uri": "https://localhost:8080/"
        },
        "id": "fI_Inf-0XKyY",
        "outputId": "b72bf6f1-3fed-453d-95bf-ad7233c01d5e"
      },
      "execution_count": 2,
      "outputs": [
        {
          "output_type": "stream",
          "name": "stdout",
          "text": [
            "Drive already mounted at /content/drive; to attempt to forcibly remount, call drive.mount(\"/content/drive\", force_remount=True).\n"
          ]
        }
      ]
    },
    {
      "cell_type": "code",
      "execution_count": null,
      "metadata": {
        "id": "_Vd5q8uCNIr_"
      },
      "outputs": [],
      "source": [
        "# !unzip '/content/drive/MyDrive/AI_2/project/Post-hurricane.zip' -d '/content/drive/MyDrive/AI_2/project/'"
      ]
    },
    {
      "cell_type": "code",
      "source": [
        "train_damage_dir = '/content/drive/MyDrive/AI_2/project/train_another/damage'\n",
        "validation_damage_dir = '/content/drive/MyDrive/AI_2/project/validation_another/damage'\n",
        "unbalanced_test_damage_dir = '/content/drive/MyDrive/AI_2/project/test_another/damage'\n",
        "test_damage_dir = '/content/drive/MyDrive/AI_2/project/test/damage'\n",
        "\n",
        "train_nodamage_dir = '/content/drive/MyDrive/AI_2/project/train_another/no_damage'\n",
        "validation_nodamage_dir = '/content/drive/MyDrive/AI_2/project/validation_another/no_damage'\n",
        "unbalanced_test_nodamage_dir = '/content/drive/MyDrive/AI_2/project/test_another/no_damage'\n",
        "test_nodamage_dir = '/content/drive/MyDrive/AI_2/project/test_another/no_damage'"
      ],
      "metadata": {
        "id": "yIyTqnDCQGTX"
      },
      "execution_count": null,
      "outputs": []
    },
    {
      "cell_type": "code",
      "source": [
        "print('total training damage images: ',len(os.listdir(train_damage_dir)))\n",
        "print('total validation damage images: ',len(os.listdir(validation_damage_dir)))\n",
        "print('total  test damage images: ',len(os.listdir(test_damage_dir)))\n",
        "print('total  test_unbalanced_ds damage images: ',len(os.listdir(unbalanced_test_damage_dir)))\n",
        "\n",
        "print('---')\n",
        "print('total training no damage images: ',len(os.listdir(train_nodamage_dir)))\n",
        "print('total validation no damage images: ',len(os.listdir(validation_nodamage_dir)))\n",
        "print('total test no damage images: ',len(os.listdir(test_nodamage_dir)))\n",
        "print('total  test_unbalanced_ds no damage images: ',len(os.listdir(unbalanced_test_nodamage_dir)))"
      ],
      "metadata": {
        "colab": {
          "base_uri": "https://localhost:8080/"
        },
        "id": "2p-xuKW-R_0P",
        "outputId": "56e1a5f6-7b6d-4ad3-bb37-7ef4dce75510"
      },
      "execution_count": null,
      "outputs": [
        {
          "output_type": "stream",
          "name": "stdout",
          "text": [
            "total training damage images:  5000\n",
            "total validation damage images:  1000\n",
            "total  test damage images:  1000\n",
            "total  test_unbalanced_ds damage images:  8000\n",
            "---\n",
            "total training no damage images:  5000\n",
            "total validation no damage images:  1000\n",
            "total test no damage images:  1000\n",
            "total  test_unbalanced_ds no damage images:  1000\n"
          ]
        }
      ]
    },
    {
      "cell_type": "code",
      "source": [
        "from keras import backend as K\n",
        "\n",
        "def recall_m(y_true, y_pred):\n",
        "    true_positives = K.sum(K.round(K.clip(y_true * y_pred, 0, 1)))\n",
        "    possible_positives = K.sum(K.round(K.clip(y_true, 0, 1)))\n",
        "    recall = true_positives / (possible_positives + K.epsilon())\n",
        "    return recall\n",
        "\n",
        "def precision_m(y_true, y_pred):\n",
        "    true_positives = K.sum(K.round(K.clip(y_true * y_pred, 0, 1)))\n",
        "    predicted_positives = K.sum(K.round(K.clip(y_pred, 0, 1)))\n",
        "    precision = true_positives / (predicted_positives + K.epsilon())\n",
        "    return precision\n",
        "\n",
        "def f1_m(y_true, y_pred):\n",
        "    precision = precision_m(y_true, y_pred)\n",
        "    recall = recall_m(y_true, y_pred)\n",
        "    return 2*((precision*recall)/(precision+recall+K.epsilon()))"
      ],
      "metadata": {
        "id": "x937PKbLUSel"
      },
      "execution_count": 3,
      "outputs": []
    },
    {
      "cell_type": "code",
      "source": [
        "model = Sequential(name = 'model_from_scratch')\n",
        "model.add(layers.Conv2D(32,(3,3), activation = 'relu', input_shape = (150,150,3)))\n",
        "model.add(layers.MaxPooling2D((2,2)))\n",
        "model.add(layers.Conv2D(64,(3,3), activation = 'relu'))\n",
        "model.add(layers.MaxPooling2D((2,2)))\n",
        "model.add(layers.Conv2D(128,(3,3), activation = 'relu'))\n",
        "model.add(layers.MaxPooling2D((2,2)))\n",
        "model.add(layers.Conv2D(128,(3,3), activation = 'relu'))\n",
        "model.add(layers.MaxPooling2D((2,2)))\n",
        "model.add(layers.Flatten())\n",
        "model.add(layers.Dropout(0.5))\n",
        "model.add(layers.Dense(512,activation = 'relu'))\n",
        "model.add(layers.Dense(1, activation = 'sigmoid'))\n"
      ],
      "metadata": {
        "id": "j3XM6AZFSCiZ"
      },
      "execution_count": null,
      "outputs": []
    },
    {
      "cell_type": "code",
      "source": [
        "\n",
        "model.compile(loss = 'binary_crossentropy', optimizer = 'adam', metrics = ['accuracy',precision_m,recall_m,f1_m])"
      ],
      "metadata": {
        "id": "6aainN5QWp5D"
      },
      "execution_count": null,
      "outputs": []
    },
    {
      "cell_type": "code",
      "source": [
        "\n",
        "\n",
        "#normalize the image pixel value to be between 0 and 1\n",
        "train_datagen = ImageDataGenerator(rescale=1./255)\n",
        "test_datagen = ImageDataGenerator(rescale=1./255)\n",
        "\n",
        "train_generator = train_datagen.flow_from_directory(\n",
        "                    '/content/drive/MyDrive/AI_2/project/train_another', \n",
        "                    target_size = (150,150),\n",
        "                    batch_size = 32,\n",
        "                    class_mode = 'binary')\n",
        "validation_generator = test_datagen.flow_from_directory(\n",
        "                    '/content/drive/MyDrive/AI_2/project/validation_another',\n",
        "                    target_size = (150,150),\n",
        "                    batch_size = 32,\n",
        "                    class_mode = 'binary')"
      ],
      "metadata": {
        "colab": {
          "base_uri": "https://localhost:8080/"
        },
        "id": "J8s9xtuQT1Jh",
        "outputId": "f54d3593-6027-4f12-f2d2-6eab0a4e449f"
      },
      "execution_count": null,
      "outputs": [
        {
          "output_type": "stream",
          "name": "stdout",
          "text": [
            "Found 10000 images belonging to 2 classes.\n",
            "Found 2000 images belonging to 2 classes.\n"
          ]
        }
      ]
    },
    {
      "cell_type": "code",
      "source": [
        "step_size_train = train_generator.n//train_generator.batch_size\n",
        "step_size_validation = validation_generator.n//validation_generator.batch_size"
      ],
      "metadata": {
        "id": "zrG9Z5iuwCUR"
      },
      "execution_count": null,
      "outputs": []
    },
    {
      "cell_type": "code",
      "source": [
        "history = model.fit(\n",
        "        train_generator,\n",
        "        epochs=15,\n",
        "        validation_data=validation_generator,\n",
        "         steps_per_epoch=step_size_train,\n",
        "        validation_steps= step_size_validation\n",
        "        )"
      ],
      "metadata": {
        "colab": {
          "base_uri": "https://localhost:8080/"
        },
        "id": "s31WxV3qaGRI",
        "outputId": "0fd9c89d-c174-4ce1-b0aa-3e4be540eeb4"
      },
      "execution_count": null,
      "outputs": [
        {
          "output_type": "stream",
          "name": "stdout",
          "text": [
            "Epoch 1/15\n",
            "312/312 [==============================] - 40s 128ms/step - loss: 0.1969 - accuracy: 0.9188 - precision_m: 0.9260 - recall_m: 0.9150 - f1_m: 0.9163 - val_loss: 0.1720 - val_accuracy: 0.9345 - val_precision_m: 0.9295 - val_recall_m: 0.9385 - val_f1_m: 0.9320\n",
            "Epoch 2/15\n",
            "312/312 [==============================] - 40s 127ms/step - loss: 0.1519 - accuracy: 0.9382 - precision_m: 0.9446 - recall_m: 0.9331 - f1_m: 0.9356 - val_loss: 0.1432 - val_accuracy: 0.9511 - val_precision_m: 0.9430 - val_recall_m: 0.9574 - val_f1_m: 0.9486\n",
            "Epoch 3/15\n",
            "312/312 [==============================] - 39s 124ms/step - loss: 0.1202 - accuracy: 0.9516 - precision_m: 0.9546 - recall_m: 0.9496 - f1_m: 0.9498 - val_loss: 0.1310 - val_accuracy: 0.9572 - val_precision_m: 0.9740 - val_recall_m: 0.9390 - val_f1_m: 0.9549\n",
            "Epoch 4/15\n",
            "312/312 [==============================] - 40s 127ms/step - loss: 0.1113 - accuracy: 0.9577 - precision_m: 0.9591 - recall_m: 0.9578 - f1_m: 0.9565 - val_loss: 0.1548 - val_accuracy: 0.9390 - val_precision_m: 0.9704 - val_recall_m: 0.9072 - val_f1_m: 0.9342\n",
            "Epoch 5/15\n",
            "312/312 [==============================] - 39s 126ms/step - loss: 0.0942 - accuracy: 0.9609 - precision_m: 0.9627 - recall_m: 0.9599 - f1_m: 0.9595 - val_loss: 0.1202 - val_accuracy: 0.9526 - val_precision_m: 0.9485 - val_recall_m: 0.9553 - val_f1_m: 0.9506\n",
            "Epoch 6/15\n",
            "312/312 [==============================] - 39s 125ms/step - loss: 0.0942 - accuracy: 0.9654 - precision_m: 0.9662 - recall_m: 0.9660 - f1_m: 0.9643 - val_loss: 0.2315 - val_accuracy: 0.9234 - val_precision_m: 0.9279 - val_recall_m: 0.9165 - val_f1_m: 0.9201\n",
            "Epoch 7/15\n",
            "312/312 [==============================] - 40s 129ms/step - loss: 0.0733 - accuracy: 0.9721 - precision_m: 0.9715 - recall_m: 0.9731 - f1_m: 0.9711 - val_loss: 0.1196 - val_accuracy: 0.9632 - val_precision_m: 0.9709 - val_recall_m: 0.9517 - val_f1_m: 0.9597\n",
            "Epoch 8/15\n",
            "312/312 [==============================] - 39s 126ms/step - loss: 0.0612 - accuracy: 0.9763 - precision_m: 0.9733 - recall_m: 0.9799 - f1_m: 0.9757 - val_loss: 0.1028 - val_accuracy: 0.9703 - val_precision_m: 0.9800 - val_recall_m: 0.9612 - val_f1_m: 0.9697\n",
            "Epoch 9/15\n",
            "312/312 [==============================] - 40s 127ms/step - loss: 0.0602 - accuracy: 0.9762 - precision_m: 0.9757 - recall_m: 0.9760 - f1_m: 0.9747 - val_loss: 0.1531 - val_accuracy: 0.9541 - val_precision_m: 0.9321 - val_recall_m: 0.9764 - val_f1_m: 0.9526\n",
            "Epoch 10/15\n",
            "312/312 [==============================] - 40s 128ms/step - loss: 0.0639 - accuracy: 0.9766 - precision_m: 0.9766 - recall_m: 0.9788 - f1_m: 0.9767 - val_loss: 0.1057 - val_accuracy: 0.9672 - val_precision_m: 0.9585 - val_recall_m: 0.9744 - val_f1_m: 0.9654\n",
            "Epoch 11/15\n",
            "312/312 [==============================] - 40s 127ms/step - loss: 0.0375 - accuracy: 0.9869 - precision_m: 0.9858 - recall_m: 0.9876 - f1_m: 0.9862 - val_loss: 0.1535 - val_accuracy: 0.9622 - val_precision_m: 0.9553 - val_recall_m: 0.9709 - val_f1_m: 0.9621\n",
            "Epoch 12/15\n",
            "312/312 [==============================] - 44s 142ms/step - loss: 0.0359 - accuracy: 0.9866 - precision_m: 0.9870 - recall_m: 0.9861 - f1_m: 0.9860 - val_loss: 0.1780 - val_accuracy: 0.9587 - val_precision_m: 0.9432 - val_recall_m: 0.9754 - val_f1_m: 0.9576\n",
            "Epoch 13/15\n",
            "312/312 [==============================] - 40s 127ms/step - loss: 0.0433 - accuracy: 0.9849 - precision_m: 0.9855 - recall_m: 0.9852 - f1_m: 0.9847 - val_loss: 0.1380 - val_accuracy: 0.9617 - val_precision_m: 0.9726 - val_recall_m: 0.9476 - val_f1_m: 0.9583\n",
            "Epoch 14/15\n",
            "312/312 [==============================] - 40s 127ms/step - loss: 0.0378 - accuracy: 0.9868 - precision_m: 0.9867 - recall_m: 0.9870 - f1_m: 0.9864 - val_loss: 0.1473 - val_accuracy: 0.9516 - val_precision_m: 0.9830 - val_recall_m: 0.9209 - val_f1_m: 0.9493\n",
            "Epoch 15/15\n",
            "312/312 [==============================] - 40s 130ms/step - loss: 0.0303 - accuracy: 0.9896 - precision_m: 0.9911 - recall_m: 0.9874 - f1_m: 0.9888 - val_loss: 0.1336 - val_accuracy: 0.9622 - val_precision_m: 0.9724 - val_recall_m: 0.9499 - val_f1_m: 0.9599\n"
          ]
        }
      ]
    },
    {
      "cell_type": "code",
      "source": [
        "# Save the weights\n",
        "model.save_weights('/content/drive/MyDrive/AI_2/project')"
      ],
      "metadata": {
        "id": "8ZeZ-e8dyj56"
      },
      "execution_count": null,
      "outputs": []
    },
    {
      "cell_type": "code",
      "source": [
        "model_1 = Sequential(name = 'model_from_scratch')\n",
        "model_1.add(layers.Conv2D(32,(3,3), activation = 'relu', input_shape = (150,150,3)))\n",
        "model_1.add(layers.MaxPooling2D((2,2)))\n",
        "model_1.add(layers.Conv2D(64,(3,3), activation = 'relu'))\n",
        "model_1.add(layers.MaxPooling2D((2,2)))\n",
        "model_1.add(layers.Conv2D(128,(3,3), activation = 'relu'))\n",
        "model_1.add(layers.MaxPooling2D((2,2)))\n",
        "model_1.add(layers.Conv2D(128,(3,3), activation = 'relu'))\n",
        "model_1.add(layers.MaxPooling2D((2,2)))\n",
        "model_1.add(layers.Flatten())\n",
        "model_1.add(layers.Dropout(0.5))\n",
        "model_1.add(layers.Dense(512,activation = 'relu'))\n",
        "model_1.add(layers.Dense(1, activation = 'sigmoid'))"
      ],
      "metadata": {
        "id": "b0RY2QxLyorA"
      },
      "execution_count": null,
      "outputs": []
    },
    {
      "cell_type": "code",
      "source": [
        "model_1.load_weights('/content/drive/MyDrive/AI_2/project')"
      ],
      "metadata": {
        "colab": {
          "base_uri": "https://localhost:8080/"
        },
        "id": "WNk7_0K6y2hp",
        "outputId": "85f72e8d-1a71-47a7-e50d-a96c3c4cff2a"
      },
      "execution_count": null,
      "outputs": [
        {
          "output_type": "execute_result",
          "data": {
            "text/plain": [
              "<tensorflow.python.training.tracking.util.CheckpointLoadStatus at 0x7f6bd8415a50>"
            ]
          },
          "metadata": {},
          "execution_count": 18
        }
      ]
    },
    {
      "cell_type": "code",
      "source": [
        "\n",
        "model_1.compile(loss = 'binary_crossentropy', optimizer = 'adam', metrics = ['accuracy',precision_m,recall_m,f1_m])"
      ],
      "metadata": {
        "id": "BZFm0GUW0YA-"
      },
      "execution_count": null,
      "outputs": []
    },
    {
      "cell_type": "code",
      "source": [
        "model_1.fit(\n",
        "        train_generator,\n",
        "        epochs=1,\n",
        "        validation_data=validation_generator,\n",
        "         steps_per_epoch=step_size_train,\n",
        "        validation_steps= step_size_validation\n",
        "        )"
      ],
      "metadata": {
        "colab": {
          "base_uri": "https://localhost:8080/"
        },
        "id": "rhP-SFHv0SQA",
        "outputId": "8c43a8d6-d758-4703-df4e-d59960edeee8"
      },
      "execution_count": null,
      "outputs": [
        {
          "output_type": "stream",
          "name": "stdout",
          "text": [
            "312/312 [==============================] - 42s 129ms/step - loss: 0.0340 - accuracy: 0.9887 - precision_m: 0.9892 - recall_m: 0.9871 - f1_m: 0.9876 - val_loss: 0.1456 - val_accuracy: 0.9688 - val_precision_m: 0.9635 - val_recall_m: 0.9737 - val_f1_m: 0.9676\n"
          ]
        },
        {
          "output_type": "execute_result",
          "data": {
            "text/plain": [
              "<keras.callbacks.History at 0x7f6bd8461dd0>"
            ]
          },
          "metadata": {},
          "execution_count": 21
        }
      ]
    },
    {
      "cell_type": "code",
      "source": [
        ""
      ],
      "metadata": {
        "id": "L3gjWOzY0cqB"
      },
      "execution_count": null,
      "outputs": []
    },
    {
      "cell_type": "code",
      "source": [
        "# Save the weights\n",
        "model.save_weights('/content/drive/MyDrive/AI_2/project')\n",
        "\n",
        "# Create a new model instance\n",
        "model = create_model()\n",
        "\n",
        "# Restore the weights\n",
        "model.load_weights('./checkpoints/my_checkpoint')\n",
        "\n",
        "# Evaluate the model\n",
        "loss, acc = model.evaluate(test_images, test_labels, verbose=2)\n",
        "print(\"Restored model, accuracy: {:5.2f}%\".format(100 * acc))"
      ],
      "metadata": {
        "id": "Agp3q-JvyEIc"
      },
      "execution_count": null,
      "outputs": []
    },
    {
      "cell_type": "code",
      "source": [
        ""
      ],
      "metadata": {
        "id": "HO34ScFNyKLb"
      },
      "execution_count": null,
      "outputs": []
    },
    {
      "cell_type": "code",
      "source": [
        "model.save('/content/drive/MyDrive/AI_2/project/model.h5')"
      ],
      "metadata": {
        "id": "-ik5UMCabLS6"
      },
      "execution_count": null,
      "outputs": []
    },
    {
      "cell_type": "code",
      "source": [
        "train_datagen = ImageDataGenerator(\n",
        "        rescale=1./255,\n",
        "        shear_range=0.2,\n",
        "        zoom_range=0.2,\n",
        "        horizontal_flip=True)\n",
        "test_datagen = ImageDataGenerator(rescale=1./255)\n",
        "train_generator = train_datagen.flow_from_directory(\n",
        "        'data/train',\n",
        "        target_size=(150, 150),\n",
        "        batch_size=32,\n",
        "        class_mode='binary')\n",
        "validation_generator = test_datagen.flow_from_directory(\n",
        "        'data/validation',\n",
        "        target_size=(150, 150),\n",
        "        batch_size=32,\n",
        "        class_mode='binary')\n",
        "model.fit(\n",
        "        train_generator,\n",
        "        steps_per_epoch=2000,\n",
        "        epochs=50,\n",
        "        validation_data=validation_generator,\n",
        "        validation_steps=800)"
      ],
      "metadata": {
        "id": "Yo__Cne0ZhK_"
      },
      "execution_count": null,
      "outputs": []
    },
    {
      "cell_type": "code",
      "source": [
        "train_generator[0][0][0].shape"
      ],
      "metadata": {
        "colab": {
          "base_uri": "https://localhost:8080/"
        },
        "id": "LQ9Y_XKDWGqw",
        "outputId": "661e0e9b-5280-43e9-df10-a7b89b087887"
      },
      "execution_count": null,
      "outputs": [
        {
          "output_type": "execute_result",
          "data": {
            "text/plain": [
              "(150, 150, 3)"
            ]
          },
          "metadata": {},
          "execution_count": 8
        }
      ]
    },
    {
      "cell_type": "code",
      "source": [
        "plt.imshow(train_generator[0][0][0])\n",
        "plt.axis('off')"
      ],
      "metadata": {
        "colab": {
          "base_uri": "https://localhost:8080/",
          "height": 265
        },
        "id": "Zg78jCNmWLsG",
        "outputId": "f90a9a3f-5f33-4b48-9fe2-cbb12acda68b"
      },
      "execution_count": null,
      "outputs": [
        {
          "output_type": "execute_result",
          "data": {
            "text/plain": [
              "(-0.5, 149.5, 149.5, -0.5)"
            ]
          },
          "metadata": {},
          "execution_count": 9
        },
        {
          "output_type": "display_data",
          "data": {
            "image/png": "[encoded data removed]",
            "text/plain": [
              "<Figure size 432x288 with 1 Axes>"
            ]
          },
          "metadata": {
            "needs_background": "light"
          }
        }
      ]
    },
    {
      "cell_type": "code",
      "source": [
        "validation_generator[0][0].shape"
      ],
      "metadata": {
        "colab": {
          "base_uri": "https://localhost:8080/"
        },
        "id": "eAnsHxfwYolE",
        "outputId": "100272c2-ee83-4971-ccf1-c433b285e67e"
      },
      "execution_count": null,
      "outputs": [
        {
          "output_type": "execute_result",
          "data": {
            "text/plain": [
              "(20, 150, 150, 3)"
            ]
          },
          "metadata": {},
          "execution_count": 16
        }
      ]
    },
    {
      "cell_type": "markdown",
      "source": [
        "avg pooling, max pooling"
      ],
      "metadata": {
        "id": "71A5ieDxoJ3u"
      }
    },
    {
      "cell_type": "code",
      "source": [
        ""
      ],
      "metadata": {
        "id": "uEcS3diRpAk2"
      },
      "execution_count": null,
      "outputs": []
    },
    {
      "cell_type": "code",
      "source": [
        "ste"
      ],
      "metadata": {
        "id": "cBjHzy5IrT4C"
      },
      "execution_count": null,
      "outputs": []
    },
    {
      "cell_type": "code",
      "source": [
        ""
      ],
      "metadata": {
        "id": "KA1SVsrutle5"
      },
      "execution_count": null,
      "outputs": []
    },
    {
      "cell_type": "code",
      "source": [
        ""
      ],
      "metadata": {
        "id": "XW5net-cv3x1"
      },
      "execution_count": null,
      "outputs": []
    },
    {
      "cell_type": "code",
      "source": [
        "# epochs = 5\n",
        "# model.compile(loss=\"categorical_crossentropy\", optimizer=keras.optimizers.Adam(), metrics=\"accuracy\")\n",
        "history = model.fit_generator(train_generator, validation_data=validation_generator, epochs=10)"
      ],
      "metadata": {
        "colab": {
          "base_uri": "https://localhost:8080/",
          "height": 418
        },
        "id": "FhZX91olYbQF",
        "outputId": "0d677ff8-7512-4559-ed54-e702fb8e8f88"
      },
      "execution_count": null,
      "outputs": [
        {
          "output_type": "stream",
          "name": "stdout",
          "text": [
            "Epoch 1/10\n"
          ]
        },
        {
          "output_type": "stream",
          "name": "stderr",
          "text": [
            "/usr/local/lib/python3.7/dist-packages/ipykernel_launcher.py:3: UserWarning: `Model.fit_generator` is deprecated and will be removed in a future version. Please use `Model.fit`, which supports generators.\n",
            "  This is separate from the ipykernel package so we can avoid doing imports until\n"
          ]
        },
        {
          "output_type": "error",
          "ename": "TypeError",
          "evalue": "ignored",
          "traceback": [
            "\u001b[0;31m---------------------------------------------------------------------------\u001b[0m",
            "\u001b[0;31mTypeError\u001b[0m                                 Traceback (most recent call last)",
            "\u001b[0;32m<ipython-input-17-17724ed45dbf>\u001b[0m in \u001b[0;36m<module>\u001b[0;34m()\u001b[0m\n\u001b[1;32m      1\u001b[0m \u001b[0;31m# epochs = 5\u001b[0m\u001b[0;34m\u001b[0m\u001b[0;34m\u001b[0m\u001b[0;34m\u001b[0m\u001b[0m\n\u001b[1;32m      2\u001b[0m \u001b[0;31m# model.compile(loss=\"categorical_crossentropy\", optimizer=keras.optimizers.Adam(), metrics=\"accuracy\")\u001b[0m\u001b[0;34m\u001b[0m\u001b[0;34m\u001b[0m\u001b[0;34m\u001b[0m\u001b[0m\n\u001b[0;32m----> 3\u001b[0;31m \u001b[0mhistory\u001b[0m \u001b[0;34m=\u001b[0m \u001b[0mmodel\u001b[0m\u001b[0;34m.\u001b[0m\u001b[0mfit_generator\u001b[0m\u001b[0;34m(\u001b[0m\u001b[0mtrain_generator\u001b[0m\u001b[0;34m,\u001b[0m \u001b[0mvalidation_data\u001b[0m\u001b[0;34m=\u001b[0m\u001b[0mvalidation_generator\u001b[0m\u001b[0;34m,\u001b[0m \u001b[0mepochs\u001b[0m\u001b[0;34m=\u001b[0m\u001b[0;36m10\u001b[0m\u001b[0;34m)\u001b[0m\u001b[0;34m\u001b[0m\u001b[0;34m\u001b[0m\u001b[0m\n\u001b[0m",
            "\u001b[0;32m/usr/local/lib/python3.7/dist-packages/keras/engine/training.py\u001b[0m in \u001b[0;36mfit_generator\u001b[0;34m(self, generator, steps_per_epoch, epochs, verbose, callbacks, validation_data, validation_steps, validation_freq, class_weight, max_queue_size, workers, use_multiprocessing, shuffle, initial_epoch)\u001b[0m\n\u001b[1;32m   2028\u001b[0m         \u001b[0muse_multiprocessing\u001b[0m\u001b[0;34m=\u001b[0m\u001b[0muse_multiprocessing\u001b[0m\u001b[0;34m,\u001b[0m\u001b[0;34m\u001b[0m\u001b[0;34m\u001b[0m\u001b[0m\n\u001b[1;32m   2029\u001b[0m         \u001b[0mshuffle\u001b[0m\u001b[0;34m=\u001b[0m\u001b[0mshuffle\u001b[0m\u001b[0;34m,\u001b[0m\u001b[0;34m\u001b[0m\u001b[0;34m\u001b[0m\u001b[0m\n\u001b[0;32m-> 2030\u001b[0;31m         initial_epoch=initial_epoch)\n\u001b[0m\u001b[1;32m   2031\u001b[0m \u001b[0;34m\u001b[0m\u001b[0m\n\u001b[1;32m   2032\u001b[0m   \u001b[0;34m@\u001b[0m\u001b[0mdoc_controls\u001b[0m\u001b[0;34m.\u001b[0m\u001b[0mdo_not_generate_docs\u001b[0m\u001b[0;34m\u001b[0m\u001b[0;34m\u001b[0m\u001b[0m\n",
            "\u001b[0;32m/usr/local/lib/python3.7/dist-packages/keras/utils/traceback_utils.py\u001b[0m in \u001b[0;36merror_handler\u001b[0;34m(*args, **kwargs)\u001b[0m\n\u001b[1;32m     65\u001b[0m     \u001b[0;32mexcept\u001b[0m \u001b[0mException\u001b[0m \u001b[0;32mas\u001b[0m \u001b[0me\u001b[0m\u001b[0;34m:\u001b[0m  \u001b[0;31m# pylint: disable=broad-except\u001b[0m\u001b[0;34m\u001b[0m\u001b[0;34m\u001b[0m\u001b[0m\n\u001b[1;32m     66\u001b[0m       \u001b[0mfiltered_tb\u001b[0m \u001b[0;34m=\u001b[0m \u001b[0m_process_traceback_frames\u001b[0m\u001b[0;34m(\u001b[0m\u001b[0me\u001b[0m\u001b[0;34m.\u001b[0m\u001b[0m__traceback__\u001b[0m\u001b[0;34m)\u001b[0m\u001b[0;34m\u001b[0m\u001b[0;34m\u001b[0m\u001b[0m\n\u001b[0;32m---> 67\u001b[0;31m       \u001b[0;32mraise\u001b[0m \u001b[0me\u001b[0m\u001b[0;34m.\u001b[0m\u001b[0mwith_traceback\u001b[0m\u001b[0;34m(\u001b[0m\u001b[0mfiltered_tb\u001b[0m\u001b[0;34m)\u001b[0m \u001b[0;32mfrom\u001b[0m \u001b[0;32mNone\u001b[0m\u001b[0;34m\u001b[0m\u001b[0;34m\u001b[0m\u001b[0m\n\u001b[0m\u001b[1;32m     68\u001b[0m     \u001b[0;32mfinally\u001b[0m\u001b[0;34m:\u001b[0m\u001b[0;34m\u001b[0m\u001b[0;34m\u001b[0m\u001b[0m\n\u001b[1;32m     69\u001b[0m       \u001b[0;32mdel\u001b[0m \u001b[0mfiltered_tb\u001b[0m\u001b[0;34m\u001b[0m\u001b[0;34m\u001b[0m\u001b[0m\n",
            "\u001b[0;32m/usr/local/lib/python3.7/dist-packages/tensorflow/python/eager/def_function.py\u001b[0m in \u001b[0;36m_call\u001b[0;34m(self, *args, **kwds)\u001b[0m\n\u001b[1;32m    940\u001b[0m       \u001b[0;31m# In this case we have created variables on the first call, so we run the\u001b[0m\u001b[0;34m\u001b[0m\u001b[0;34m\u001b[0m\u001b[0;34m\u001b[0m\u001b[0m\n\u001b[1;32m    941\u001b[0m       \u001b[0;31m# defunned version which is guaranteed to never create variables.\u001b[0m\u001b[0;34m\u001b[0m\u001b[0;34m\u001b[0m\u001b[0;34m\u001b[0m\u001b[0m\n\u001b[0;32m--> 942\u001b[0;31m       \u001b[0;32mreturn\u001b[0m \u001b[0mself\u001b[0m\u001b[0;34m.\u001b[0m\u001b[0m_stateless_fn\u001b[0m\u001b[0;34m(\u001b[0m\u001b[0;34m*\u001b[0m\u001b[0margs\u001b[0m\u001b[0;34m,\u001b[0m \u001b[0;34m**\u001b[0m\u001b[0mkwds\u001b[0m\u001b[0;34m)\u001b[0m  \u001b[0;31m# pylint: disable=not-callable\u001b[0m\u001b[0;34m\u001b[0m\u001b[0;34m\u001b[0m\u001b[0m\n\u001b[0m\u001b[1;32m    943\u001b[0m     \u001b[0;32melif\u001b[0m \u001b[0mself\u001b[0m\u001b[0;34m.\u001b[0m\u001b[0m_stateful_fn\u001b[0m \u001b[0;32mis\u001b[0m \u001b[0;32mnot\u001b[0m \u001b[0;32mNone\u001b[0m\u001b[0;34m:\u001b[0m\u001b[0;34m\u001b[0m\u001b[0;34m\u001b[0m\u001b[0m\n\u001b[1;32m    944\u001b[0m       \u001b[0;31m# Release the lock early so that multiple threads can perform the call\u001b[0m\u001b[0;34m\u001b[0m\u001b[0;34m\u001b[0m\u001b[0;34m\u001b[0m\u001b[0m\n",
            "\u001b[0;31mTypeError\u001b[0m: 'NoneType' object is not callable"
          ]
        }
      ]
    },
    {
      "cell_type": "code",
      "source": [
        "history = model.fit_generator(\n",
        "            train_generator,\n",
        "            steps_per_epoch=100,\n",
        "            epochs=50,\n",
        "            validation_data=validation_generator,\n",
        "            validation_steps=50)"
      ],
      "metadata": {
        "colab": {
          "base_uri": "https://localhost:8080/",
          "height": 418
        },
        "id": "BZhcAd1OWdGu",
        "outputId": "fe48406a-619d-4671-8077-07d77164188d"
      },
      "execution_count": null,
      "outputs": [
        {
          "output_type": "stream",
          "name": "stderr",
          "text": [
            "/usr/local/lib/python3.7/dist-packages/ipykernel_launcher.py:6: UserWarning: `Model.fit_generator` is deprecated and will be removed in a future version. Please use `Model.fit`, which supports generators.\n",
            "  \n"
          ]
        },
        {
          "output_type": "stream",
          "name": "stdout",
          "text": [
            "Epoch 1/50\n"
          ]
        },
        {
          "output_type": "error",
          "ename": "TypeError",
          "evalue": "ignored",
          "traceback": [
            "\u001b[0;31m---------------------------------------------------------------------------\u001b[0m",
            "\u001b[0;31mTypeError\u001b[0m                                 Traceback (most recent call last)",
            "\u001b[0;32m<ipython-input-20-f228749dcc24>\u001b[0m in \u001b[0;36m<module>\u001b[0;34m()\u001b[0m\n\u001b[1;32m      4\u001b[0m             \u001b[0mepochs\u001b[0m\u001b[0;34m=\u001b[0m\u001b[0;36m50\u001b[0m\u001b[0;34m,\u001b[0m\u001b[0;34m\u001b[0m\u001b[0;34m\u001b[0m\u001b[0m\n\u001b[1;32m      5\u001b[0m             \u001b[0mvalidation_data\u001b[0m\u001b[0;34m=\u001b[0m\u001b[0mvalidation_generator\u001b[0m\u001b[0;34m,\u001b[0m\u001b[0;34m\u001b[0m\u001b[0;34m\u001b[0m\u001b[0m\n\u001b[0;32m----> 6\u001b[0;31m             validation_steps=50)\n\u001b[0m",
            "\u001b[0;32m/usr/local/lib/python3.7/dist-packages/keras/engine/training.py\u001b[0m in \u001b[0;36mfit_generator\u001b[0;34m(self, generator, steps_per_epoch, epochs, verbose, callbacks, validation_data, validation_steps, validation_freq, class_weight, max_queue_size, workers, use_multiprocessing, shuffle, initial_epoch)\u001b[0m\n\u001b[1;32m   2028\u001b[0m         \u001b[0muse_multiprocessing\u001b[0m\u001b[0;34m=\u001b[0m\u001b[0muse_multiprocessing\u001b[0m\u001b[0;34m,\u001b[0m\u001b[0;34m\u001b[0m\u001b[0;34m\u001b[0m\u001b[0m\n\u001b[1;32m   2029\u001b[0m         \u001b[0mshuffle\u001b[0m\u001b[0;34m=\u001b[0m\u001b[0mshuffle\u001b[0m\u001b[0;34m,\u001b[0m\u001b[0;34m\u001b[0m\u001b[0;34m\u001b[0m\u001b[0m\n\u001b[0;32m-> 2030\u001b[0;31m         initial_epoch=initial_epoch)\n\u001b[0m\u001b[1;32m   2031\u001b[0m \u001b[0;34m\u001b[0m\u001b[0m\n\u001b[1;32m   2032\u001b[0m   \u001b[0;34m@\u001b[0m\u001b[0mdoc_controls\u001b[0m\u001b[0;34m.\u001b[0m\u001b[0mdo_not_generate_docs\u001b[0m\u001b[0;34m\u001b[0m\u001b[0;34m\u001b[0m\u001b[0m\n",
            "\u001b[0;32m/usr/local/lib/python3.7/dist-packages/keras/utils/traceback_utils.py\u001b[0m in \u001b[0;36merror_handler\u001b[0;34m(*args, **kwargs)\u001b[0m\n\u001b[1;32m     65\u001b[0m     \u001b[0;32mexcept\u001b[0m \u001b[0mException\u001b[0m \u001b[0;32mas\u001b[0m \u001b[0me\u001b[0m\u001b[0;34m:\u001b[0m  \u001b[0;31m# pylint: disable=broad-except\u001b[0m\u001b[0;34m\u001b[0m\u001b[0;34m\u001b[0m\u001b[0m\n\u001b[1;32m     66\u001b[0m       \u001b[0mfiltered_tb\u001b[0m \u001b[0;34m=\u001b[0m \u001b[0m_process_traceback_frames\u001b[0m\u001b[0;34m(\u001b[0m\u001b[0me\u001b[0m\u001b[0;34m.\u001b[0m\u001b[0m__traceback__\u001b[0m\u001b[0;34m)\u001b[0m\u001b[0;34m\u001b[0m\u001b[0;34m\u001b[0m\u001b[0m\n\u001b[0;32m---> 67\u001b[0;31m       \u001b[0;32mraise\u001b[0m \u001b[0me\u001b[0m\u001b[0;34m.\u001b[0m\u001b[0mwith_traceback\u001b[0m\u001b[0;34m(\u001b[0m\u001b[0mfiltered_tb\u001b[0m\u001b[0;34m)\u001b[0m \u001b[0;32mfrom\u001b[0m \u001b[0;32mNone\u001b[0m\u001b[0;34m\u001b[0m\u001b[0;34m\u001b[0m\u001b[0m\n\u001b[0m\u001b[1;32m     68\u001b[0m     \u001b[0;32mfinally\u001b[0m\u001b[0;34m:\u001b[0m\u001b[0;34m\u001b[0m\u001b[0;34m\u001b[0m\u001b[0m\n\u001b[1;32m     69\u001b[0m       \u001b[0;32mdel\u001b[0m \u001b[0mfiltered_tb\u001b[0m\u001b[0;34m\u001b[0m\u001b[0;34m\u001b[0m\u001b[0m\n",
            "\u001b[0;32m/usr/local/lib/python3.7/dist-packages/tensorflow/python/eager/def_function.py\u001b[0m in \u001b[0;36m_call\u001b[0;34m(self, *args, **kwds)\u001b[0m\n\u001b[1;32m    940\u001b[0m       \u001b[0;31m# In this case we have created variables on the first call, so we run the\u001b[0m\u001b[0;34m\u001b[0m\u001b[0;34m\u001b[0m\u001b[0;34m\u001b[0m\u001b[0m\n\u001b[1;32m    941\u001b[0m       \u001b[0;31m# defunned version which is guaranteed to never create variables.\u001b[0m\u001b[0;34m\u001b[0m\u001b[0;34m\u001b[0m\u001b[0;34m\u001b[0m\u001b[0m\n\u001b[0;32m--> 942\u001b[0;31m       \u001b[0;32mreturn\u001b[0m \u001b[0mself\u001b[0m\u001b[0;34m.\u001b[0m\u001b[0m_stateless_fn\u001b[0m\u001b[0;34m(\u001b[0m\u001b[0;34m*\u001b[0m\u001b[0margs\u001b[0m\u001b[0;34m,\u001b[0m \u001b[0;34m**\u001b[0m\u001b[0mkwds\u001b[0m\u001b[0;34m)\u001b[0m  \u001b[0;31m# pylint: disable=not-callable\u001b[0m\u001b[0;34m\u001b[0m\u001b[0;34m\u001b[0m\u001b[0m\n\u001b[0m\u001b[1;32m    943\u001b[0m     \u001b[0;32melif\u001b[0m \u001b[0mself\u001b[0m\u001b[0;34m.\u001b[0m\u001b[0m_stateful_fn\u001b[0m \u001b[0;32mis\u001b[0m \u001b[0;32mnot\u001b[0m \u001b[0;32mNone\u001b[0m\u001b[0;34m:\u001b[0m\u001b[0;34m\u001b[0m\u001b[0;34m\u001b[0m\u001b[0m\n\u001b[1;32m    944\u001b[0m       \u001b[0;31m# Release the lock early so that multiple threads can perform the call\u001b[0m\u001b[0;34m\u001b[0m\u001b[0;34m\u001b[0m\u001b[0;34m\u001b[0m\u001b[0m\n",
            "\u001b[0;31mTypeError\u001b[0m: 'NoneType' object is not callable"
          ]
        }
      ]
    },
    {
      "cell_type": "code",
      "source": [
        ""
      ],
      "metadata": {
        "id": "WcvPBPpgW7ig"
      },
      "execution_count": null,
      "outputs": []
    },
    {
      "cell_type": "markdown",
      "source": [
        ""
      ],
      "metadata": {
        "id": "54T8cHLxnRGl"
      }
    }
  ]
}