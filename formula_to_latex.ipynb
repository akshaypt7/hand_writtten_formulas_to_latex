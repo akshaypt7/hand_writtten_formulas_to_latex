{
  "nbformat": 4,
  "nbformat_minor": 0,
  "metadata": {
    "colab": {
      "name": "formula_to_latex.ipynb",
      "provenance": [],
      "mount_file_id": "1dCk4mIhmgjN-g1-RCF21zm8fTfQ5mzk7",
      "authorship_tag": "ABX9TyOJPdyeGMltruqpnOdZWLYj",
      "include_colab_link": true
    },
    "kernelspec": {
      "name": "python3",
      "display_name": "Python 3"
    },
    "language_info": {
      "name": "python"
    }
  },
  "cells": [
    {
      "cell_type": "markdown",
      "metadata": {
        "id": "view-in-github",
        "colab_type": "text"
      },
      "source": [
        "<a href=\"https://colab.research.google.com/github/akshaypt7/hand_writtten_formulas_to_latex/blob/main/formula_to_latex.ipynb\" target=\"_parent\"><img src=\"https://colab.research.google.com/assets/colab-badge.svg\" alt=\"Open In Colab\"/></a>"
      ]
    },
    {
      "cell_type": "code",
      "execution_count": 1,
      "metadata": {
        "id": "4msACNmHnkHt"
      },
      "outputs": [],
      "source": [
        "import os\n",
        "import requests\n",
        "import zipfile\n",
        "import shutil\n",
        "import json\n",
        "import time\n",
        "import sys\n",
        "import cv2\n",
        "import numpy as np\n",
        "import pandas as pd\n",
        "from glob import glob\n",
        "import subprocess\n",
        "import matplotlib.pyplot as plt\n",
        "%matplotlib inline\n",
        "\n",
        "import tensorflow as tf\n"
      ]
    },
    {
      "cell_type": "code",
      "source": [
        "#mount your own drive to avoid downloading the data multiple time \n",
        "\n",
        "from google.colab import drive\n",
        "drive.mount('/content/drive')"
      ],
      "metadata": {
        "colab": {
          "base_uri": "https://localhost:8080/"
        },
        "id": "QtXRUddvt2Zk",
        "outputId": "83d7165f-f48a-437e-fcab-cb53b100bda3"
      },
      "execution_count": 3,
      "outputs": [
        {
          "output_type": "stream",
          "name": "stdout",
          "text": [
            "Drive already mounted at /content/drive; to attempt to forcibly remount, call drive.mount(\"/content/drive\", force_remount=True).\n"
          ]
        }
      ]
    },
    {
      "cell_type": "markdown",
      "source": [
        "ls"
      ],
      "metadata": {
        "id": "v-iuziEWuKot"
      }
    },
    {
      "cell_type": "code",
      "source": [
        "ls"
      ],
      "metadata": {
        "colab": {
          "base_uri": "https://localhost:8080/"
        },
        "id": "XZdDqdF5uLTo",
        "outputId": "1a2369d2-7f72-42f6-ed7f-292a3ae2ff8d"
      },
      "execution_count": 6,
      "outputs": [
        {
          "output_type": "stream",
          "name": "stdout",
          "text": [
            "\u001b[0m\u001b[01;34mdrive\u001b[0m/        iseq_n.npy      oseq_n.npy       test_labels.npy\n",
            "\u001b[01;34mformulas\u001b[0m/     \u001b[01;34mnormalized\u001b[0m/     \u001b[01;34msample_data\u001b[0m/     train_images.npy\n",
            "formulas.zip  normalized.zip  test_images.npy  train_labels.npy\n"
          ]
        }
      ]
    },
    {
      "cell_type": "code",
      "source": [
        "os.path"
      ],
      "metadata": {
        "colab": {
          "base_uri": "https://localhost:8080/"
        },
        "id": "Dhemt_N-uYdg",
        "outputId": "f2a60009-1c63-4402-a7af-ed43ac3e281c"
      },
      "execution_count": 7,
      "outputs": [
        {
          "output_type": "execute_result",
          "data": {
            "text/plain": [
              "<module 'posixpath' from '/usr/lib/python3.7/posixpath.py'>"
            ]
          },
          "metadata": {},
          "execution_count": 7
        }
      ]
    },
    {
      "cell_type": "code",
      "source": [
        "ls"
      ],
      "metadata": {
        "colab": {
          "base_uri": "https://localhost:8080/"
        },
        "id": "EjTm-QxYutKD",
        "outputId": "bf21a7ec-15b2-4c6d-ed36-bb415b13c689"
      },
      "execution_count": 8,
      "outputs": [
        {
          "output_type": "stream",
          "name": "stdout",
          "text": [
            "\u001b[0m\u001b[01;34mdrive\u001b[0m/        iseq_n.npy      oseq_n.npy       test_labels.npy\n",
            "\u001b[01;34mformulas\u001b[0m/     \u001b[01;34mnormalized\u001b[0m/     \u001b[01;34msample_data\u001b[0m/     train_images.npy\n",
            "formulas.zip  normalized.zip  test_images.npy  train_labels.npy\n"
          ]
        }
      ]
    },
    {
      "cell_type": "code",
      "source": [
        "path = '/content/drive/MyDrive/AI_2/hw'"
      ],
      "metadata": {
        "id": "8aaWyb6ausJa"
      },
      "execution_count": 9,
      "outputs": []
    },
    {
      "cell_type": "code",
      "source": [
        "import requests, os, zipfile\n",
        "base_url = \"http://he2latex.opensourc.es/\"\n",
        "\n",
        "files = [\"train_images.npy\", \"train_labels.npy\", \"test_images.npy\", \"test_labels.npy\", \"iseq_n.npy\", \"oseq_n.npy\", \"normalized.zip\", \"formulas.zip\"]\n",
        "\n",
        "# print(ls)\n",
        "for fname in files:\n",
        "    if not os.path.exists('/content/drive/MyDrive/AI_2/project/' + fname): \n",
        "        print(\"Downloading: \", fname)\n",
        "        url = base_url + fname\n",
        "        r = requests.get(url)\n",
        "        open('/content/drive/MyDrive/AI_2/project/' + fname , 'wb').write(r.content)\n",
        "    else:\n",
        "        print(\"%s exists already \" % fname)\n",
        "\n",
        "for fname in files:\n",
        "    if fname[-4:] == \".zip\" and not os.path.exists('/content/drive/MyDrive/AI_2/project/' + fname[:-4]+\"/\"):\n",
        "        print(\"Extracting zip file %s\" % fname)\n",
        "        zip_ref = zipfile.ZipFile('/content/drive/MyDrive/AI_2/project/' + fname, 'r')\n",
        "        zip_ref.extractall(\"/content/drive/MyDrive/AI_2/project/\")\n",
        "        zip_ref.close()\n",
        "\n",
        "        "
      ],
      "metadata": {
        "colab": {
          "base_uri": "https://localhost:8080/"
        },
        "id": "cCFD-ldbswJ3",
        "outputId": "5622d2d4-7bc4-4fa1-ea38-08720d1dd8b5"
      },
      "execution_count": 17,
      "outputs": [
        {
          "output_type": "stream",
          "name": "stdout",
          "text": [
            "Downloading:  train_images.npy\n",
            "Downloading:  train_labels.npy\n",
            "Downloading:  test_images.npy\n",
            "Downloading:  test_labels.npy\n",
            "Downloading:  iseq_n.npy\n",
            "Downloading:  oseq_n.npy\n",
            "Downloading:  normalized.zip\n",
            "Downloading:  formulas.zip\n",
            "Extracting zip file formulas.zip\n"
          ]
        }
      ]
    },
    {
      "cell_type": "code",
      "source": [
        ""
      ],
      "metadata": {
        "id": "ulHBvEBds8g5"
      },
      "execution_count": null,
      "outputs": []
    }
  ]
}